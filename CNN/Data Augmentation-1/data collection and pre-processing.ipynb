{
 "cells": [
  {
   "cell_type": "markdown",
   "metadata": {},
   "source": [
    "# Data Augmentation\n",
    "\n",
    "Data augmentation in data analysis are techniques used to increase the amount of data by adding slightly modified copies of already existing data or newly created synthetic data from existing data. \n",
    "\n",
    "It acts as a regularizer and helps reduce overfitting when training a machine learning model."
   ]
  },
  {
   "cell_type": "markdown",
   "metadata": {},
   "source": [
    "### Step-1: Collect Data"
   ]
  },
  {
   "cell_type": "code",
   "execution_count": 1,
   "metadata": {},
   "outputs": [],
   "source": [
    "# Get filenames in a list\n",
    "from os import listdir\n",
    "from os.path import isfile, join"
   ]
  },
  {
   "cell_type": "markdown",
   "metadata": {},
   "source": [
    "- **`listdir()`** method in python is used to get the list of all files and directories in the specified directory. If we don't specify any directory, then list of files and directories in the current working directory will be returned.\n",
    "\n",
    "Syntax: \n",
    "```py\n",
    "os.listdir(path)\n",
    "```\n",
    "\n",
    "- `os.path.isfile()` method in Python is used to check whether the specified path is an existing regular file or not."
   ]
  },
  {
   "cell_type": "code",
   "execution_count": 2,
   "metadata": {},
   "outputs": [
    {
     "data": {
      "text/plain": [
       "3002"
      ]
     },
     "execution_count": 2,
     "metadata": {},
     "output_type": "execute_result"
    }
   ],
   "source": [
    "mypath = \"./data/datasets/images/\"\n",
    "\n",
    "file_names = [f for f in listdir(mypath) if isfile(join(mypath, f))]\n",
    "len(file_names)"
   ]
  },
  {
   "cell_type": "code",
   "execution_count": 3,
   "metadata": {},
   "outputs": [
    {
     "name": "stdout",
     "output_type": "stream",
     "text": [
      "cat.0.jpg\n",
      "cat.1.jpg\n",
      "cat.10.jpg\n",
      "cat.100.jpg\n",
      "cat.1000.jpg\n"
     ]
    }
   ],
   "source": [
    "for i in range(5):\n",
    "    print(file_names[i])"
   ]
  },
  {
   "cell_type": "markdown",
   "metadata": {},
   "source": [
    "### step-2: split our images into train and test/validation dataset\n",
    "\n",
    "1. We need to store their labels (e.g. y_train, y_test)\n",
    "2. resize all of the images into `150 x 150`\n",
    "3. For training, we're going to use 1000 images of dog and 1000 images of cats\n",
    "4. Dogs will be $label = 1$ and cats will be $label = 0$"
   ]
  },
  {
   "cell_type": "code",
   "execution_count": 4,
   "metadata": {},
   "outputs": [],
   "source": [
    "import cv2\n",
    "import numpy as np\n",
    "import os\n",
    "import sys\n",
    "import shutil"
   ]
  },
  {
   "cell_type": "code",
   "execution_count": 10,
   "metadata": {},
   "outputs": [],
   "source": [
    "dog_count = 0\n",
    "cat_count = 0\n",
    "training_size = 1000\n",
    "test_size = 500\n",
    "training_images = []\n",
    "training_labels = []\n",
    "test_images = []\n",
    "test_labels = []\n",
    "size = 150\n",
    "\n",
    "# save directories\n",
    "dog_dir_train = \"./data/datasets/train/dogs/\"\n",
    "cat_dir_train = \"./data/datasets/train/cats/\"\n",
    "dog_dir_val = \"./data/datasets/validation/dogs/\"\n",
    "cat_dir_val = \"./data/datasets/validation/cats/\""
   ]
  },
  {
   "cell_type": "code",
   "execution_count": 11,
   "metadata": {},
   "outputs": [],
   "source": [
    "def make_dir(directory):\n",
    "    if os.path.exists(directory):\n",
    "        shutil.rmtree(directory)\n",
    "    os.makedirs(directory)"
   ]
  },
  {
   "cell_type": "code",
   "execution_count": 14,
   "metadata": {},
   "outputs": [],
   "source": [
    "make_dir(dog_dir_train)\n",
    "make_dir(cat_dir_train)\n",
    "make_dir(dog_dir_val)\n",
    "make_dir(cat_dir_val)"
   ]
  },
  {
   "cell_type": "code",
   "execution_count": 8,
   "metadata": {},
   "outputs": [],
   "source": [
    "def get_zeros(number):\n",
    "    if(number > 10 and number < 100):\n",
    "        return \"0\"\n",
    "    elif(number < 10):\n",
    "        return \"00\"\n",
    "    else:\n",
    "        return \"\""
   ]
  },
  {
   "cell_type": "code",
   "execution_count": 15,
   "metadata": {},
   "outputs": [
    {
     "name": "stdout",
     "output_type": "stream",
     "text": [
      "Wall time: 38.9 s\n"
     ]
    }
   ],
   "source": [
    "%%time\n",
    "\n",
    "for i, file in enumerate(file_names):\n",
    "    \n",
    "    # dogs\n",
    "    if(file_names[i][0] == \"d\"):\n",
    "        dog_count += 1\n",
    "        img = cv2.imread(mypath+file)\n",
    "        img = cv2.resize(img, (size, size), interpolation=cv2.INTER_AREA)\n",
    "        if(dog_count <= training_size):\n",
    "            training_images.append(img)\n",
    "            training_labels.append(1)\n",
    "            zeros = get_zeros(dog_count)\n",
    "            cv2.imwrite(dog_dir_train + \"dog\" + str(zeros) + str(dog_count) + \".jpg\", img)\n",
    "        if(dog_count > training_size and dog_count < training_size+test_size):\n",
    "            test_images.append(img)\n",
    "            test_labels.append(1)\n",
    "            zeros = get_zeros(dog_count - 1000)\n",
    "            cv2.imwrite(dog_dir_val + \"dog\" + str(zeros) + str(dog_count-1000) + \".jpg\", img)\n",
    "            \n",
    "    # cats\n",
    "    if(file_names[i][0] == \"c\"):\n",
    "        cat_count += 1\n",
    "        img = cv2.imread(mypath+file)\n",
    "        img = cv2.resize(img, (size, size), interpolation=cv2.INTER_AREA)\n",
    "        if(cat_count <= training_size):\n",
    "            training_images.append(img)\n",
    "            training_labels.append(0)\n",
    "            zeros = get_zeros(cat_count)\n",
    "            cv2.imwrite(cat_dir_train + \"cat\" + str(zeros) + str(cat_count) + \".jpg\", img)\n",
    "        if(cat_count > training_size and cat_count < training_size+test_size):\n",
    "            test_images.append(img)\n",
    "            test_labels.append(0)\n",
    "            zeros = get_zeros(cat_count - 1000)\n",
    "            cv2.imwrite(cat_dir_val + \"dog\" + str(zeros) + str(cat_count-1000) + \".jpg\", img)\n",
    "            \n",
    "    if(dog_count == training_size + test_size and cat_count == training_size + test_size):\n",
    "        break"
   ]
  },
  {
   "cell_type": "markdown",
   "metadata": {},
   "source": [
    "`cv2.resize()` 👉 **interpolation:** https://chadrick-kwag.net/cv2-resize-interpolation-methods/\n",
    "\n",
    "`cv2.imwrite()` 👉 method is used to save an image to any storage device. This will save the image according to the specified format in current working directory."
   ]
  },
  {
   "cell_type": "markdown",
   "metadata": {},
   "source": [
    "### step-3: save the dataset's to `npz` format\n",
    "\n",
    "with `np.savez()`, save several arrays into a single file in uncompressed ``.npz`` format."
   ]
  },
  {
   "cell_type": "code",
   "execution_count": 17,
   "metadata": {},
   "outputs": [],
   "source": [
    "np.savez(\"./data/datasets/cats_vs_dogs_training_data.npz\", np.array(training_images))\n",
    "np.savez(\"./data/datasets/cats_vs_dogs_training_labels.npz\", np.array(training_labels))\n",
    "np.savez(\"./data/datasets/cats_vs_dogs_test_data.npz\", np.array(test_images))\n",
    "np.savez(\"./data/datasets/cats_vs_dogs_test_labels.npz\", np.array(test_labels))"
   ]
  },
  {
   "cell_type": "code",
   "execution_count": 18,
   "metadata": {},
   "outputs": [],
   "source": [
    "# loader function\n",
    "def load_training_and_test_data(datasetName):\n",
    "    \n",
    "    npzfile = np.load(\"./data/datasets/\" + datasetName + \"_training_data.npz\")\n",
    "    train = npzfile[\"arr_0\"]\n",
    "    \n",
    "    npzfile = np.load(\"./data/datasets/\" + datasetName + \"_training_labels.npz\")\n",
    "    train_labels = npzfile[\"arr_0\"]\n",
    "    \n",
    "    npzfile = np.load(\"./data/datasets/\" + datasetName + \"_test_data.npz\")\n",
    "    test = npzfile[\"arr_0\"]\n",
    "    \n",
    "    npzfile = np.load(\"./data/datasets/\" + datasetName + \"_test_labels.npz\")\n",
    "    test_labels = npzfile[\"arr_0\"]\n",
    "    \n",
    "    return (train, train_labels), (test, test_labels)"
   ]
  },
  {
   "cell_type": "code",
   "execution_count": 19,
   "metadata": {},
   "outputs": [
    {
     "name": "stdout",
     "output_type": "stream",
     "text": [
      "1 - Dog\n",
      "2 - Cat\n",
      "3 - Cat\n",
      "4 - Dog\n",
      "5 - Cat\n"
     ]
    }
   ],
   "source": [
    "# load random image\n",
    "for i in range(1,6):\n",
    "    random = np.random.randint(0, len(training_images))\n",
    "    cv2.imshow(f\"image_{i}\", training_images[random])\n",
    "    \n",
    "    if(training_labels[random] == 0):\n",
    "        print(f\"{i} - Cat\")\n",
    "    else:\n",
    "        print(f\"{i} - Dog\")\n",
    "        \n",
    "    cv2.waitKey(0)\n",
    "    \n",
    "cv2.destroyAllWindows()"
   ]
  },
  {
   "cell_type": "code",
   "execution_count": null,
   "metadata": {},
   "outputs": [],
   "source": []
  }
 ],
 "metadata": {
  "kernelspec": {
   "display_name": "Python 3",
   "language": "python",
   "name": "python3"
  },
  "language_info": {
   "codemirror_mode": {
    "name": "ipython",
    "version": 3
   },
   "file_extension": ".py",
   "mimetype": "text/x-python",
   "name": "python",
   "nbconvert_exporter": "python",
   "pygments_lexer": "ipython3",
   "version": "3.7.7"
  }
 },
 "nbformat": 4,
 "nbformat_minor": 4
}
