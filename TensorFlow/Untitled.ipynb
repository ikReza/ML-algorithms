{
 "cells": [
  {
   "cell_type": "markdown",
   "metadata": {},
   "source": [
    "# TensorFlow 2.0"
   ]
  },
  {
   "cell_type": "markdown",
   "metadata": {},
   "source": [
    "We know the equation of straight line: $ y = wx + b $\n",
    "\n",
    "But if we have more than 1 feature: $ y = w_{1}x_{1} + w_{2}x_{2} + b $"
   ]
  },
  {
   "cell_type": "markdown",
   "metadata": {},
   "source": [
    "In deep learning, we prefer smooth differentiable function(`sigmoid`)\n",
    "\n",
    "$ \\hat{y} = \\sigma(a) = w_{1}x_{1} + w_{2}x_{2} + b $\n",
    "\n",
    "sigmoid function is also called sometimes logistic function"
   ]
  },
  {
   "cell_type": "markdown",
   "metadata": {},
   "source": [
    "> If we have > 2 imputs?\n",
    "\n",
    "We take transpose of weight and take the dot product of this and inputs\n",
    "\n",
    "$ \\hat{y} = \\sigma(w^T + b) $\n",
    "\n",
    "The above equation is implemented in the keras layer\n",
    "```\n",
    "tf.keras.layers.Dense(output_size)\n",
    "```"
   ]
  },
  {
   "cell_type": "markdown",
   "metadata": {},
   "source": [
    "### The main steps\n",
    "\n",
    "```py\n",
    "model = tf.keras.models.Sequential([\n",
    "    tk.keras.layers.Input(shape=(D,)),\n",
    "    tk.keras.layers.Dense(1, activation=\"sigmoid\")\n",
    "])\n",
    "```\n",
    "\n",
    "- in the `Sequential` model we pass a list of layers\n",
    "- The first layer is a kind of dummy layer, because it'll automatically be passed whether we specify it or not.\n",
    "\n",
    "```py\n",
    "model.compile(optimizer=\"adam\",\n",
    "              loss=\"binary_crossentropy\",\n",
    "              metrics=[\"accuracy\"])\n",
    "```\n",
    "\n",
    "- the cost/loss function is `binary_crossentropy`.\n",
    "- the general strategy in training/fitting is `gradient_descent`. There are many kinds of gradient_descent but `adam` is the default.\n",
    "\n",
    "```py\n",
    "r = model.fit(\n",
    "    X_train, y_train,\n",
    "    validation_data=(X_test, y_test),\n",
    "    epochs=100)\n",
    "```\n",
    "\n",
    "```py\n",
    "plt.plot(r.history[\"loss\"], label=\"loss\")\n",
    "plt.plot(r.history[\"val_loss\"], label=\"val_loss\")\n",
    "```"
   ]
  },
  {
   "cell_type": "code",
   "execution_count": null,
   "metadata": {},
   "outputs": [],
   "source": []
  }
 ],
 "metadata": {
  "kernelspec": {
   "display_name": "Python 3",
   "language": "python",
   "name": "python3"
  },
  "language_info": {
   "codemirror_mode": {
    "name": "ipython",
    "version": 3
   },
   "file_extension": ".py",
   "mimetype": "text/x-python",
   "name": "python",
   "nbconvert_exporter": "python",
   "pygments_lexer": "ipython3",
   "version": "3.7.4"
  }
 },
 "nbformat": 4,
 "nbformat_minor": 2
}
