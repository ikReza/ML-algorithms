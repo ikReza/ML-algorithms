{
 "cells": [
  {
   "cell_type": "markdown",
   "metadata": {},
   "source": [
    "# Binary Cross Entropy"
   ]
  },
  {
   "cell_type": "markdown",
   "metadata": {},
   "source": [
    "This is the correct loss function to use for binary classification\n",
    "\n",
    "$ Loss = -\\frac{1}{N} \\sum\\limits _{i=1}^{N} {y_{i}log\\hat{y_i} + (1-y_i)log(1 - \\hat{y_i})} $\n",
    "\n",
    "where,\n",
    "- ground truth = $ y $\n",
    "- prediction = $ \\hat{y} $"
   ]
  },
  {
   "cell_type": "markdown",
   "metadata": {},
   "source": [
    "##### What distribution describes binary events\n",
    "Bernoulli"
   ]
  }
 ],
 "metadata": {
  "kernelspec": {
   "display_name": "Python 3",
   "language": "python",
   "name": "python3"
  },
  "language_info": {
   "codemirror_mode": {
    "name": "ipython",
    "version": 3
   },
   "file_extension": ".py",
   "mimetype": "text/x-python",
   "name": "python",
   "nbconvert_exporter": "python",
   "pygments_lexer": "ipython3",
   "version": "3.7.7"
  }
 },
 "nbformat": 4,
 "nbformat_minor": 4
}
