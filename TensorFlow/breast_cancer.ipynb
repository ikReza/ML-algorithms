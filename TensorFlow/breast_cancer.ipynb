{
 "cells": [
  {
   "cell_type": "code",
   "execution_count": 1,
   "metadata": {},
   "outputs": [],
   "source": [
    "import tensorflow as tf"
   ]
  },
  {
   "cell_type": "code",
   "execution_count": 2,
   "metadata": {},
   "outputs": [],
   "source": [
    "import pandas as pd\n",
    "import numpy as np\n",
    "import matplotlib.pyplot as plt\n",
    "plt.style.use(\"default\")"
   ]
  },
  {
   "cell_type": "markdown",
   "metadata": {},
   "source": [
    "### load breast cancer dataset from scikit-learn"
   ]
  },
  {
   "cell_type": "code",
   "execution_count": 3,
   "metadata": {},
   "outputs": [],
   "source": [
    "from sklearn.datasets import load_breast_cancer"
   ]
  },
  {
   "cell_type": "code",
   "execution_count": 4,
   "metadata": {},
   "outputs": [],
   "source": [
    "cancer = load_breast_cancer()"
   ]
  },
  {
   "cell_type": "code",
   "execution_count": 5,
   "metadata": {},
   "outputs": [
    {
     "data": {
      "text/plain": [
       "dict_keys(['data', 'target', 'frame', 'target_names', 'DESCR', 'feature_names', 'filename'])"
      ]
     },
     "execution_count": 5,
     "metadata": {},
     "output_type": "execute_result"
    }
   ],
   "source": [
    "cancer.keys()"
   ]
  },
  {
   "cell_type": "code",
   "execution_count": 7,
   "metadata": {},
   "outputs": [
    {
     "data": {
      "text/plain": [
       "array(['malignant', 'benign'], dtype='<U9')"
      ]
     },
     "execution_count": 7,
     "metadata": {},
     "output_type": "execute_result"
    }
   ],
   "source": [
    "cancer.target_names"
   ]
  },
  {
   "cell_type": "code",
   "execution_count": 9,
   "metadata": {},
   "outputs": [
    {
     "data": {
      "text/plain": [
       "array(['mean radius', 'mean texture', 'mean perimeter', 'mean area',\n",
       "       'mean smoothness', 'mean compactness', 'mean concavity',\n",
       "       'mean concave points', 'mean symmetry', 'mean fractal dimension',\n",
       "       'radius error', 'texture error', 'perimeter error', 'area error',\n",
       "       'smoothness error', 'compactness error', 'concavity error',\n",
       "       'concave points error', 'symmetry error',\n",
       "       'fractal dimension error', 'worst radius', 'worst texture',\n",
       "       'worst perimeter', 'worst area', 'worst smoothness',\n",
       "       'worst compactness', 'worst concavity', 'worst concave points',\n",
       "       'worst symmetry', 'worst fractal dimension'], dtype='<U23')"
      ]
     },
     "execution_count": 9,
     "metadata": {},
     "output_type": "execute_result"
    }
   ],
   "source": [
    "cancer.feature_names"
   ]
  },
  {
   "cell_type": "code",
   "execution_count": 16,
   "metadata": {},
   "outputs": [
    {
     "data": {
      "text/plain": [
       "(569, 30)"
      ]
     },
     "execution_count": 16,
     "metadata": {},
     "output_type": "execute_result"
    }
   ],
   "source": [
    "R, C = cancer.data.shape\n",
    "R, C"
   ]
  },
  {
   "cell_type": "markdown",
   "metadata": {},
   "source": [
    "### Split the data"
   ]
  },
  {
   "cell_type": "code",
   "execution_count": 13,
   "metadata": {},
   "outputs": [],
   "source": [
    "from sklearn.model_selection import train_test_split"
   ]
  },
  {
   "cell_type": "code",
   "execution_count": 14,
   "metadata": {},
   "outputs": [],
   "source": [
    "X_train, X_test, y_train, y_test = train_test_split(cancer.data, cancer.target, \n",
    "                                                    test_size=0.3, shuffle=True)"
   ]
  },
  {
   "cell_type": "markdown",
   "metadata": {},
   "source": [
    "### Pre-processing the data"
   ]
  },
  {
   "cell_type": "code",
   "execution_count": 12,
   "metadata": {},
   "outputs": [],
   "source": [
    "from sklearn.preprocessing import StandardScaler"
   ]
  },
  {
   "cell_type": "code",
   "execution_count": 15,
   "metadata": {},
   "outputs": [],
   "source": [
    "scaler = StandardScaler()\n",
    "X_train = scaler.fit_transform(X_train)\n",
    "X_test = scaler.transform(X_test)"
   ]
  },
  {
   "cell_type": "markdown",
   "metadata": {},
   "source": [
    "### Build the model"
   ]
  },
  {
   "cell_type": "code",
   "execution_count": 17,
   "metadata": {},
   "outputs": [],
   "source": [
    "model = tf.keras.models.Sequential([\n",
    "    tf.keras.layers.Input(shape=(C,)),\n",
    "    tf.keras.layers.Dense(1, activation=\"sigmoid\")\n",
    "])"
   ]
  },
  {
   "cell_type": "code",
   "execution_count": 18,
   "metadata": {},
   "outputs": [],
   "source": [
    "model.compile(optimizer=\"adam\", loss=\"binary_crossentropy\", metrics=[\"accuracy\"])"
   ]
  },
  {
   "cell_type": "code",
   "execution_count": 19,
   "metadata": {},
   "outputs": [
    {
     "name": "stdout",
     "output_type": "stream",
     "text": [
      "Train on 398 samples, validate on 171 samples\n",
      "Epoch 1/100\n",
      "398/398 [==============================] - 4s 9ms/sample - loss: 1.1543 - accuracy: 0.2538 - val_loss: 1.0204 - val_accuracy: 0.2865\n",
      "Epoch 2/100\n",
      "398/398 [==============================] - 0s 573us/sample - loss: 1.0354 - accuracy: 0.3116 - val_loss: 0.9092 - val_accuracy: 0.3567\n",
      "Epoch 3/100\n",
      "398/398 [==============================] - 0s 181us/sample - loss: 0.9245 - accuracy: 0.3744 - val_loss: 0.8116 - val_accuracy: 0.4152\n",
      "Epoch 4/100\n",
      "398/398 [==============================] - 0s 181us/sample - loss: 0.8278 - accuracy: 0.4523 - val_loss: 0.7258 - val_accuracy: 0.5614\n",
      "Epoch 5/100\n",
      "398/398 [==============================] - 0s 193us/sample - loss: 0.7437 - accuracy: 0.5352 - val_loss: 0.6523 - val_accuracy: 0.6316\n",
      "Epoch 6/100\n",
      "398/398 [==============================] - 0s 201us/sample - loss: 0.6713 - accuracy: 0.6080 - val_loss: 0.5915 - val_accuracy: 0.6959\n",
      "Epoch 7/100\n",
      "398/398 [==============================] - 0s 216us/sample - loss: 0.6099 - accuracy: 0.6910 - val_loss: 0.5418 - val_accuracy: 0.7661\n",
      "Epoch 8/100\n",
      "398/398 [==============================] - 0s 191us/sample - loss: 0.5604 - accuracy: 0.7362 - val_loss: 0.5000 - val_accuracy: 0.8012\n",
      "Epoch 9/100\n",
      "398/398 [==============================] - 0s 210us/sample - loss: 0.5170 - accuracy: 0.7814 - val_loss: 0.4664 - val_accuracy: 0.8187\n",
      "Epoch 10/100\n",
      "398/398 [==============================] - 0s 246us/sample - loss: 0.4818 - accuracy: 0.8191 - val_loss: 0.4375 - val_accuracy: 0.8538\n",
      "Epoch 11/100\n",
      "398/398 [==============================] - 0s 208us/sample - loss: 0.4513 - accuracy: 0.8317 - val_loss: 0.4130 - val_accuracy: 0.8596\n",
      "Epoch 12/100\n",
      "398/398 [==============================] - 0s 203us/sample - loss: 0.4254 - accuracy: 0.8392 - val_loss: 0.3917 - val_accuracy: 0.9006\n",
      "Epoch 13/100\n",
      "398/398 [==============================] - 0s 178us/sample - loss: 0.4031 - accuracy: 0.8543 - val_loss: 0.3730 - val_accuracy: 0.9006\n",
      "Epoch 14/100\n",
      "398/398 [==============================] - 0s 221us/sample - loss: 0.3832 - accuracy: 0.8593 - val_loss: 0.3563 - val_accuracy: 0.9006\n",
      "Epoch 15/100\n",
      "398/398 [==============================] - 0s 183us/sample - loss: 0.3655 - accuracy: 0.8668 - val_loss: 0.3416 - val_accuracy: 0.9006\n",
      "Epoch 16/100\n",
      "398/398 [==============================] - 0s 236us/sample - loss: 0.3497 - accuracy: 0.8819 - val_loss: 0.3285 - val_accuracy: 0.9006\n",
      "Epoch 17/100\n",
      "398/398 [==============================] - 0s 279us/sample - loss: 0.3356 - accuracy: 0.8894 - val_loss: 0.3168 - val_accuracy: 0.9064\n",
      "Epoch 18/100\n",
      "398/398 [==============================] - 0s 329us/sample - loss: 0.3230 - accuracy: 0.8945 - val_loss: 0.3060 - val_accuracy: 0.9064\n",
      "Epoch 19/100\n",
      "398/398 [==============================] - 0s 289us/sample - loss: 0.3113 - accuracy: 0.9045 - val_loss: 0.2959 - val_accuracy: 0.9181\n",
      "Epoch 20/100\n",
      "398/398 [==============================] - 0s 276us/sample - loss: 0.3002 - accuracy: 0.9095 - val_loss: 0.2870 - val_accuracy: 0.9181\n",
      "Epoch 21/100\n",
      "398/398 [==============================] - 0s 209us/sample - loss: 0.2905 - accuracy: 0.9146 - val_loss: 0.2785 - val_accuracy: 0.9181\n",
      "Epoch 22/100\n",
      "398/398 [==============================] - 0s 266us/sample - loss: 0.2812 - accuracy: 0.9146 - val_loss: 0.2708 - val_accuracy: 0.9240\n",
      "Epoch 23/100\n",
      "398/398 [==============================] - 0s 213us/sample - loss: 0.2727 - accuracy: 0.9221 - val_loss: 0.2636 - val_accuracy: 0.9240\n",
      "Epoch 24/100\n",
      "398/398 [==============================] - 0s 294us/sample - loss: 0.2648 - accuracy: 0.9246 - val_loss: 0.2569 - val_accuracy: 0.9240\n",
      "Epoch 25/100\n",
      "398/398 [==============================] - 0s 324us/sample - loss: 0.2574 - accuracy: 0.9296 - val_loss: 0.2508 - val_accuracy: 0.9240\n",
      "Epoch 26/100\n",
      "398/398 [==============================] - 0s 266us/sample - loss: 0.2504 - accuracy: 0.9322 - val_loss: 0.2451 - val_accuracy: 0.9240\n",
      "Epoch 27/100\n",
      "398/398 [==============================] - 0s 289us/sample - loss: 0.2441 - accuracy: 0.9347 - val_loss: 0.2396 - val_accuracy: 0.9298\n",
      "Epoch 28/100\n",
      "398/398 [==============================] - 0s 208us/sample - loss: 0.2379 - accuracy: 0.9372 - val_loss: 0.2346 - val_accuracy: 0.9357\n",
      "Epoch 29/100\n",
      "398/398 [==============================] - 0s 222us/sample - loss: 0.2321 - accuracy: 0.9397 - val_loss: 0.2300 - val_accuracy: 0.9357\n",
      "Epoch 30/100\n",
      "398/398 [==============================] - 0s 206us/sample - loss: 0.2266 - accuracy: 0.9397 - val_loss: 0.2255 - val_accuracy: 0.9357\n",
      "Epoch 31/100\n",
      "398/398 [==============================] - 0s 241us/sample - loss: 0.2215 - accuracy: 0.9422 - val_loss: 0.2211 - val_accuracy: 0.9415\n",
      "Epoch 32/100\n",
      "398/398 [==============================] - 0s 286us/sample - loss: 0.2165 - accuracy: 0.9422 - val_loss: 0.2171 - val_accuracy: 0.9415\n",
      "Epoch 33/100\n",
      "398/398 [==============================] - 0s 203us/sample - loss: 0.2118 - accuracy: 0.9422 - val_loss: 0.2131 - val_accuracy: 0.9415\n",
      "Epoch 34/100\n",
      "398/398 [==============================] - 0s 244us/sample - loss: 0.2073 - accuracy: 0.9422 - val_loss: 0.2096 - val_accuracy: 0.9415\n",
      "Epoch 35/100\n",
      "398/398 [==============================] - 0s 231us/sample - loss: 0.2031 - accuracy: 0.9422 - val_loss: 0.2060 - val_accuracy: 0.9415\n",
      "Epoch 36/100\n",
      "398/398 [==============================] - 0s 176us/sample - loss: 0.1990 - accuracy: 0.9447 - val_loss: 0.2026 - val_accuracy: 0.9415\n",
      "Epoch 37/100\n",
      "398/398 [==============================] - 0s 178us/sample - loss: 0.1950 - accuracy: 0.9472 - val_loss: 0.1996 - val_accuracy: 0.9415\n",
      "Epoch 38/100\n",
      "398/398 [==============================] - 0s 244us/sample - loss: 0.1913 - accuracy: 0.9472 - val_loss: 0.1967 - val_accuracy: 0.9415\n",
      "Epoch 39/100\n",
      "398/398 [==============================] - 0s 249us/sample - loss: 0.1879 - accuracy: 0.9472 - val_loss: 0.1937 - val_accuracy: 0.9415\n",
      "Epoch 40/100\n",
      "398/398 [==============================] - 0s 246us/sample - loss: 0.1845 - accuracy: 0.9523 - val_loss: 0.1910 - val_accuracy: 0.9415\n",
      "Epoch 41/100\n",
      "398/398 [==============================] - 0s 221us/sample - loss: 0.1812 - accuracy: 0.9523 - val_loss: 0.1884 - val_accuracy: 0.9474\n",
      "Epoch 42/100\n",
      "398/398 [==============================] - 0s 347us/sample - loss: 0.1781 - accuracy: 0.9548 - val_loss: 0.1860 - val_accuracy: 0.9474\n",
      "Epoch 43/100\n",
      "398/398 [==============================] - 0s 213us/sample - loss: 0.1750 - accuracy: 0.9548 - val_loss: 0.1837 - val_accuracy: 0.9474\n",
      "Epoch 44/100\n",
      "398/398 [==============================] - 0s 231us/sample - loss: 0.1722 - accuracy: 0.9548 - val_loss: 0.1813 - val_accuracy: 0.9474\n",
      "Epoch 45/100\n",
      "398/398 [==============================] - 0s 213us/sample - loss: 0.1694 - accuracy: 0.9573 - val_loss: 0.1792 - val_accuracy: 0.9474\n",
      "Epoch 46/100\n",
      "398/398 [==============================] - 0s 186us/sample - loss: 0.1667 - accuracy: 0.9573 - val_loss: 0.1771 - val_accuracy: 0.9532\n",
      "Epoch 47/100\n",
      "398/398 [==============================] - 0s 196us/sample - loss: 0.1641 - accuracy: 0.9573 - val_loss: 0.1752 - val_accuracy: 0.9532\n",
      "Epoch 48/100\n",
      "398/398 [==============================] - 0s 213us/sample - loss: 0.1617 - accuracy: 0.9573 - val_loss: 0.1732 - val_accuracy: 0.9532\n",
      "Epoch 49/100\n",
      "398/398 [==============================] - 0s 236us/sample - loss: 0.1593 - accuracy: 0.9573 - val_loss: 0.1713 - val_accuracy: 0.9532\n",
      "Epoch 50/100\n",
      "398/398 [==============================] - 0s 261us/sample - loss: 0.1570 - accuracy: 0.9573 - val_loss: 0.1694 - val_accuracy: 0.9532\n",
      "Epoch 51/100\n",
      "398/398 [==============================] - 0s 231us/sample - loss: 0.1548 - accuracy: 0.9573 - val_loss: 0.1676 - val_accuracy: 0.9591\n",
      "Epoch 52/100\n",
      "398/398 [==============================] - 0s 229us/sample - loss: 0.1526 - accuracy: 0.9623 - val_loss: 0.1660 - val_accuracy: 0.9591\n",
      "Epoch 53/100\n",
      "398/398 [==============================] - 0s 256us/sample - loss: 0.1506 - accuracy: 0.9623 - val_loss: 0.1645 - val_accuracy: 0.9591\n",
      "Epoch 54/100\n",
      "398/398 [==============================] - 0s 218us/sample - loss: 0.1485 - accuracy: 0.9648 - val_loss: 0.1629 - val_accuracy: 0.9591\n",
      "Epoch 55/100\n",
      "398/398 [==============================] - 0s 223us/sample - loss: 0.1466 - accuracy: 0.9648 - val_loss: 0.1614 - val_accuracy: 0.9591\n",
      "Epoch 56/100\n"
     ]
    },
    {
     "name": "stdout",
     "output_type": "stream",
     "text": [
      "398/398 [==============================] - 0s 193us/sample - loss: 0.1447 - accuracy: 0.9648 - val_loss: 0.1599 - val_accuracy: 0.9591\n",
      "Epoch 57/100\n",
      "398/398 [==============================] - 0s 173us/sample - loss: 0.1429 - accuracy: 0.9648 - val_loss: 0.1586 - val_accuracy: 0.9591\n",
      "Epoch 58/100\n",
      "398/398 [==============================] - 0s 203us/sample - loss: 0.1411 - accuracy: 0.9648 - val_loss: 0.1571 - val_accuracy: 0.9649\n",
      "Epoch 59/100\n",
      "398/398 [==============================] - 0s 156us/sample - loss: 0.1394 - accuracy: 0.9648 - val_loss: 0.1559 - val_accuracy: 0.9649\n",
      "Epoch 60/100\n",
      "398/398 [==============================] - 0s 168us/sample - loss: 0.1378 - accuracy: 0.9648 - val_loss: 0.1545 - val_accuracy: 0.9649\n",
      "Epoch 61/100\n",
      "398/398 [==============================] - 0s 161us/sample - loss: 0.1361 - accuracy: 0.9648 - val_loss: 0.1534 - val_accuracy: 0.9649\n",
      "Epoch 62/100\n",
      "398/398 [==============================] - 0s 175us/sample - loss: 0.1347 - accuracy: 0.9648 - val_loss: 0.1523 - val_accuracy: 0.9649\n",
      "Epoch 63/100\n",
      "398/398 [==============================] - 0s 158us/sample - loss: 0.1331 - accuracy: 0.9673 - val_loss: 0.1513 - val_accuracy: 0.9649\n",
      "Epoch 64/100\n",
      "398/398 [==============================] - 0s 152us/sample - loss: 0.1316 - accuracy: 0.9673 - val_loss: 0.1502 - val_accuracy: 0.9649\n",
      "Epoch 65/100\n",
      "398/398 [==============================] - 0s 150us/sample - loss: 0.1302 - accuracy: 0.9673 - val_loss: 0.1491 - val_accuracy: 0.9649\n",
      "Epoch 66/100\n",
      "398/398 [==============================] - 0s 166us/sample - loss: 0.1288 - accuracy: 0.9673 - val_loss: 0.1481 - val_accuracy: 0.9649\n",
      "Epoch 67/100\n",
      "398/398 [==============================] - 0s 158us/sample - loss: 0.1275 - accuracy: 0.9673 - val_loss: 0.1472 - val_accuracy: 0.9649\n",
      "Epoch 68/100\n",
      "398/398 [==============================] - 0s 156us/sample - loss: 0.1262 - accuracy: 0.9673 - val_loss: 0.1462 - val_accuracy: 0.9649\n",
      "Epoch 69/100\n",
      "398/398 [==============================] - 0s 148us/sample - loss: 0.1249 - accuracy: 0.9673 - val_loss: 0.1453 - val_accuracy: 0.9649\n",
      "Epoch 70/100\n",
      "398/398 [==============================] - 0s 168us/sample - loss: 0.1237 - accuracy: 0.9673 - val_loss: 0.1443 - val_accuracy: 0.9649\n",
      "Epoch 71/100\n",
      "398/398 [==============================] - 0s 156us/sample - loss: 0.1225 - accuracy: 0.9673 - val_loss: 0.1435 - val_accuracy: 0.9649\n",
      "Epoch 72/100\n",
      "398/398 [==============================] - 0s 156us/sample - loss: 0.1213 - accuracy: 0.9673 - val_loss: 0.1426 - val_accuracy: 0.9649\n",
      "Epoch 73/100\n",
      "398/398 [==============================] - 0s 166us/sample - loss: 0.1202 - accuracy: 0.9673 - val_loss: 0.1418 - val_accuracy: 0.9649\n",
      "Epoch 74/100\n",
      "398/398 [==============================] - 0s 176us/sample - loss: 0.1190 - accuracy: 0.9673 - val_loss: 0.1410 - val_accuracy: 0.9649\n",
      "Epoch 75/100\n",
      "398/398 [==============================] - 0s 163us/sample - loss: 0.1179 - accuracy: 0.9698 - val_loss: 0.1403 - val_accuracy: 0.9649\n",
      "Epoch 76/100\n",
      "398/398 [==============================] - 0s 181us/sample - loss: 0.1169 - accuracy: 0.9698 - val_loss: 0.1396 - val_accuracy: 0.9649\n",
      "Epoch 77/100\n",
      "398/398 [==============================] - 0s 163us/sample - loss: 0.1159 - accuracy: 0.9724 - val_loss: 0.1388 - val_accuracy: 0.9649\n",
      "Epoch 78/100\n",
      "398/398 [==============================] - 0s 158us/sample - loss: 0.1149 - accuracy: 0.9724 - val_loss: 0.1381 - val_accuracy: 0.9649\n",
      "Epoch 79/100\n",
      "398/398 [==============================] - 0s 156us/sample - loss: 0.1139 - accuracy: 0.9724 - val_loss: 0.1374 - val_accuracy: 0.9649\n",
      "Epoch 80/100\n",
      "398/398 [==============================] - 0s 168us/sample - loss: 0.1129 - accuracy: 0.9724 - val_loss: 0.1368 - val_accuracy: 0.9649\n",
      "Epoch 81/100\n",
      "398/398 [==============================] - 0s 198us/sample - loss: 0.1120 - accuracy: 0.9724 - val_loss: 0.1361 - val_accuracy: 0.9649\n",
      "Epoch 82/100\n",
      "398/398 [==============================] - 0s 161us/sample - loss: 0.1111 - accuracy: 0.9724 - val_loss: 0.1355 - val_accuracy: 0.9649\n",
      "Epoch 83/100\n",
      "398/398 [==============================] - 0s 163us/sample - loss: 0.1101 - accuracy: 0.9724 - val_loss: 0.1348 - val_accuracy: 0.9649\n",
      "Epoch 84/100\n",
      "398/398 [==============================] - 0s 158us/sample - loss: 0.1092 - accuracy: 0.9724 - val_loss: 0.1342 - val_accuracy: 0.9649\n",
      "Epoch 85/100\n",
      "398/398 [==============================] - 0s 153us/sample - loss: 0.1084 - accuracy: 0.9724 - val_loss: 0.1336 - val_accuracy: 0.9649\n",
      "Epoch 86/100\n",
      "398/398 [==============================] - 0s 161us/sample - loss: 0.1075 - accuracy: 0.9724 - val_loss: 0.1330 - val_accuracy: 0.9708\n",
      "Epoch 87/100\n",
      "398/398 [==============================] - 0s 163us/sample - loss: 0.1067 - accuracy: 0.9724 - val_loss: 0.1324 - val_accuracy: 0.9708\n",
      "Epoch 88/100\n",
      "398/398 [==============================] - 0s 153us/sample - loss: 0.1058 - accuracy: 0.9724 - val_loss: 0.1318 - val_accuracy: 0.9708\n",
      "Epoch 89/100\n",
      "398/398 [==============================] - 0s 177us/sample - loss: 0.1050 - accuracy: 0.9724 - val_loss: 0.1312 - val_accuracy: 0.9708\n",
      "Epoch 90/100\n",
      "398/398 [==============================] - 0s 166us/sample - loss: 0.1042 - accuracy: 0.9724 - val_loss: 0.1307 - val_accuracy: 0.9708\n",
      "Epoch 91/100\n",
      "398/398 [==============================] - 0s 319us/sample - loss: 0.1035 - accuracy: 0.9724 - val_loss: 0.1302 - val_accuracy: 0.9708\n",
      "Epoch 92/100\n",
      "398/398 [==============================] - 0s 203us/sample - loss: 0.1027 - accuracy: 0.9724 - val_loss: 0.1297 - val_accuracy: 0.9708\n",
      "Epoch 93/100\n",
      "398/398 [==============================] - 0s 186us/sample - loss: 0.1020 - accuracy: 0.9724 - val_loss: 0.1292 - val_accuracy: 0.9708\n",
      "Epoch 94/100\n",
      "398/398 [==============================] - 0s 183us/sample - loss: 0.1012 - accuracy: 0.9724 - val_loss: 0.1287 - val_accuracy: 0.9708\n",
      "Epoch 95/100\n",
      "398/398 [==============================] - 0s 206us/sample - loss: 0.1005 - accuracy: 0.9724 - val_loss: 0.1281 - val_accuracy: 0.9708\n",
      "Epoch 96/100\n",
      "398/398 [==============================] - 0s 321us/sample - loss: 0.0998 - accuracy: 0.9724 - val_loss: 0.1277 - val_accuracy: 0.9766\n",
      "Epoch 97/100\n",
      "398/398 [==============================] - 0s 319us/sample - loss: 0.0991 - accuracy: 0.9724 - val_loss: 0.1272 - val_accuracy: 0.9766\n",
      "Epoch 98/100\n",
      "398/398 [==============================] - 0s 301us/sample - loss: 0.0985 - accuracy: 0.9724 - val_loss: 0.1267 - val_accuracy: 0.9766\n",
      "Epoch 99/100\n",
      "398/398 [==============================] - 0s 206us/sample - loss: 0.0978 - accuracy: 0.9724 - val_loss: 0.1262 - val_accuracy: 0.9766\n",
      "Epoch 100/100\n",
      "398/398 [==============================] - 0s 220us/sample - loss: 0.0972 - accuracy: 0.9724 - val_loss: 0.1258 - val_accuracy: 0.9766\n"
     ]
    }
   ],
   "source": [
    "r = model.fit(X_train, y_train, validation_data=(X_test, y_test), epochs=100)"
   ]
  },
  {
   "cell_type": "code",
   "execution_count": 20,
   "metadata": {},
   "outputs": [
    {
     "name": "stdout",
     "output_type": "stream",
     "text": [
      "398/398 [==============================] - 0s 90us/sample - loss: 0.0968 - accuracy: 0.9724\n",
      "Train score: [0.09677085761523727, 0.9723618]\n",
      "171/171 [==============================] - 0s 82us/sample - loss: 0.1258 - accuracy: 0.9766\n",
      "Test score: [0.12579104404526148, 0.9766082]\n"
     ]
    }
   ],
   "source": [
    "print(f\"Train score: {model.evaluate(X_train, y_train)}\")\n",
    "print(f\"Test score: {model.evaluate(X_test, y_test)}\")"
   ]
  },
  {
   "cell_type": "code",
   "execution_count": 22,
   "metadata": {},
   "outputs": [
    {
     "data": {
      "image/png": "[encoded data removed]",
      "text/plain": [
       "<Figure size 640x480 with 1 Axes>"
      ]
     },
     "metadata": {},
     "output_type": "display_data"
    }
   ],
   "source": [
    "plt.plot(r.history[\"loss\"], label=\"loss\")\n",
    "plt.plot(r.history[\"val_loss\"], label=\"val_loss\")\n",
    "plt.legend();"
   ]
  },
  {
   "cell_type": "code",
   "execution_count": 23,
   "metadata": {},
   "outputs": [
    {
     "data": {
      "image/png": "[encoded data removed]",
      "text/plain": [
       "<Figure size 640x480 with 1 Axes>"
      ]
     },
     "metadata": {},
     "output_type": "display_data"
    }
   ],
   "source": [
    "plt.plot(r.history[\"accuracy\"], label=\"accuracy\")\n",
    "plt.plot(r.history[\"val_accuracy\"], label=\"val_accuracy\")\n",
    "plt.legend();"
   ]
  },
  {
   "cell_type": "code",
   "execution_count": null,
   "metadata": {},
   "outputs": [],
   "source": []
  }
 ],
 "metadata": {
  "kernelspec": {
   "display_name": "Python 3",
   "language": "python",
   "name": "python3"
  },
  "language_info": {
   "codemirror_mode": {
    "name": "ipython",
    "version": 3
   },
   "file_extension": ".py",
   "mimetype": "text/x-python",
   "name": "python",
   "nbconvert_exporter": "python",
   "pygments_lexer": "ipython3",
   "version": "3.7.7"
  }
 },
 "nbformat": 4,
 "nbformat_minor": 4
}
