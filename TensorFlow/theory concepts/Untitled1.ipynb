{
 "cells": [
  {
   "cell_type": "markdown",
   "metadata": {},
   "source": [
    "# Basics"
   ]
  },
  {
   "cell_type": "markdown",
   "metadata": {},
   "source": [
    "### Q-1: Difference between AI, ML & DL\n",
    "\n",
    "![AI-ML-DL](images/AI-vs-ML-vs-DL.png)\n",
    "\n",
    "**AI:** It refers to the simulation of human intelligence in machines that are programmed to think like humans and mimic their actions.\n",
    "\n",
    "**ML:** It is an application of artificial intelligence (AI) that provides systems the ability to automatically learn and improve from experience without being explicitly programmed.\n",
    "\n"
   ]
  },
  {
   "cell_type": "markdown",
   "metadata": {},
   "source": [
    "### Q-2: Is deep learning better than machine learning?\n",
    "\n",
    "Yes. How?\n",
    "- DL can handle large data and also large dimension of data.\n",
    "- when data is small, DL don't perform well because it requires large amount of data\n",
    "\n",
    "![DL-vs-ML](images/DL-vs-ML.png)"
   ]
  },
  {
   "cell_type": "markdown",
   "metadata": {},
   "source": [
    "# Deep Learning"
   ]
  },
  {
   "cell_type": "markdown",
   "metadata": {},
   "source": [
    "### Q-1: Application of deep learning\n",
    "\n",
    "1. Computer Vision\n",
    "2. Object Detection\n",
    "3. Image Recognition\n",
    "4. NLP (Natural Language Processing)\n",
    "5. Sentiment Analysis"
   ]
  },
  {
   "cell_type": "markdown",
   "metadata": {},
   "source": [
    "### Q-2: What are the deep learning frameworks/tools\n",
    "\n",
    "- TensorFlow\n",
    "- PyTorch\n",
    "- Keras\n",
    "- mxnet\n",
    "- theano"
   ]
  },
  {
   "cell_type": "markdown",
   "metadata": {},
   "source": [
    "### Q-3: Deep learning backbone\n",
    "\n",
    "Neural network.\n",
    "1. ANN\n",
    "2. CNN\n",
    "3. RNN"
   ]
  },
  {
   "cell_type": "markdown",
   "metadata": {},
   "source": [
    "### Q-4: What is perceptron?\n",
    "\n",
    "Ans: https://towardsdatascience.com/what-the-hell-is-perceptron-626217814f53\n",
    "\n",
    "Perceptron is a basic unit of neural network. It consists of 4 parts.\n",
    "1. Input values or One input layer\n",
    "2. Weights and Bias\n",
    "3. Net sum\n",
    "4. Activation Function\n",
    "\n",
    "![perceptron](images/perceptron.png)"
   ]
  },
  {
   "cell_type": "markdown",
   "metadata": {},
   "source": [
    "### Q-5: Why do we need weight and bias?\n",
    "\n",
    "**Weight(w):** A weight represent the strength of the connection between units.  If the weight from node 1 to node 2 has greater magnitude, it means that neuron 1 has greater influence over neuron 2.\n",
    "\n",
    "**Bias(b):** Bias is used for shifting the activation function towards left or right, it can be referred to as a y-intercept in the line equation.\n",
    "\n",
    "#### Q-5.1: What will happen if there is no weight?\n",
    "\n",
    "We'll have fixed slope/gradient and that is not efficient.\n",
    "\n",
    "#### Q-5.2: Can we initialize all the weights = 0?\n",
    "\n",
    "Yes, but not recommended. We want every neuron to be unique. If we set all of them = 0, then there is absence of asymmetry.\n",
    "\n",
    "#### Q-5.3: Can the weights be < 0? If so, what does that imply?\n",
    "\n",
    "Yes, weights can be less than 0. Let's think of an example. A person wants to buy a car. We'll consider 2 feature that can affect the decision of the buyer.\n",
    "1. The price of the car\n",
    "2. The popularity of the car.\n",
    "\n",
    "The relationship can be shown like this:\n",
    "- $ buy \\propto \\frac{1}{price} $\n",
    "- $ buy \\propto popularity $\n",
    "\n",
    "The equation of decision making: $decision = w_1*(price) + w_2*(popularity) + b$\n",
    "\n",
    "From the above equation, it looks like there is a proprtional relation between `decision of buying` and `price`. But actually they are inversely proportional. So, to indicate this inverse nature, $w_1$ has to negative.\n",
    "\n",
    "#### Q-5.4: What will happen if there is no bias?\n",
    "\n",
    "Bias provides flexibility. For example, in linear equation($y=wx+b$), bias(y-intercept) defines the position of the line. \n",
    "- If there is no bias means $bias = 0$, the line will always go through the origin.\n",
    "- We will only have control over the slope."
   ]
  },
  {
   "cell_type": "markdown",
   "metadata": {},
   "source": [
    "### Q-6: What is activation function?\n",
    "\n",
    "- sigmoid\n",
    "- tanh\n",
    "- ReLU\n",
    "- LeakyReLU\n",
    "- softmax\n"
   ]
  },
  {
   "cell_type": "markdown",
   "metadata": {},
   "source": [
    "#### Q-6.1: Derivative of `sigmoid` function\n",
    "\n",
    "we know from formula: $ \\frac{dy}{dx} = \\frac{d}{dx}(\\frac{u}{v}) = \\frac{vu' - v'u}{v^2} $\n",
    "\n",
    "$ \\sigma(x) = \\frac{1}{1 + e^{-x}} $\n",
    "\n",
    "$ \\sigma'(x) = \\frac{0(1+e^{-x}) - (0 + (-1)(e^{-x}))*1}{(1+e^{-x})^2} $\n",
    "\n",
    "$ \\sigma'(x) = \\frac{0 - (0 + (-1)(e^{-x}))}{(1+e^{-x})^2} $\n",
    "\n",
    "$ \\sigma'(x) = \\frac{- (-(e^{-x}))}{(1+e^{-x})^2} $\n",
    "\n",
    "$ \\sigma'(x) = \\frac{e^{-x}}{(1+e^{-x})^2} $\n",
    "\n",
    "$ \\sigma'(x) = \\frac{e^{-x}}{(1+e^{-x})(1+e^{-x})} $\n",
    "\n",
    "$ \\sigma'(x) = \\frac{1}{1+e^{-x}}*\\frac{e^{-x}}{1+e^{-x}} $\n",
    "\n",
    "$ \\sigma'(x) = \\sigma(x)\\frac{e^{-x}}{1+e^{-x}} $ because $ \\sigma(x) = \\frac{1}{1 + e^{-x}} $\n",
    "\n",
    "$ \\sigma'(x) = \\sigma(x)\\frac{1+e^{-x}-1}{1+e^{-x}} $\n",
    "\n",
    "$ \\sigma'(x) = \\sigma(x)(\\frac{1+e^{-x}}{1+e^{-x}}-\\frac{1}{1+e^{-x}}) $\n",
    "\n",
    "$ \\sigma'(x) = \\sigma(x)(1-\\frac{1}{1+e^{-x}}) $\n",
    "\n",
    "$ \\sigma'(x) = \\sigma(x)(1-\\sigma(x)) $"
   ]
  },
  {
   "cell_type": "code",
   "execution_count": 3,
   "metadata": {},
   "outputs": [],
   "source": [
    "import matplotlib.pyplot as plt\n",
    "import numpy as np\n",
    "plt.style.use(\"default\")"
   ]
  },
  {
   "cell_type": "code",
   "execution_count": 28,
   "metadata": {},
   "outputs": [
    {
     "data": {
      "image/png": "[encoded data removed]",
      "text/plain": [
       "<Figure size 1000x500 with 1 Axes>"
      ]
     },
     "metadata": {},
     "output_type": "display_data"
    }
   ],
   "source": [
    "x = np.arange(-10, 10, 0.25)\n",
    "\n",
    "sigmaX = 1/(1+np.exp(-x))\n",
    "derivativeOfSigma = sigmaX*(1-sigmaX)\n",
    "\n",
    "fix, ax = plt.subplots(figsize=(10, 5))\n",
    "ax.plot(x, sigmaX, label=\"σ(x)\")\n",
    "ax.plot(x, derivativeOfSigma, label=\"σ'(x)\")\n",
    "ax.plot(x, 0.25*np.ones(len(x)), \"--\", label=\"y = 0.25\")\n",
    "ax.plot(x, 0.5*np.ones(len(x)), \"--\", label=\"y = 0.50\")\n",
    "ax.plot(np.zeros(len(x)), np.linspace(0, 1, len(x)), \"k--\", label=\"x = 0\", alpha=0.5)\n",
    "ax.set(xlim=(-10,10))\n",
    "ax.legend();"
   ]
  },
  {
   "cell_type": "markdown",
   "metadata": {},
   "source": [
    "#### Q-6.2: Derivation of `softmax` function\n",
    "\n",
    "It's a probilistic approach to determine the output. We normally use it at the final layer of our neural network.\n",
    "\n",
    "if $ z = [z_1, z_2, z_3] $\n",
    "\n",
    "$ S(z_1) = \\frac{e^{z_1}}{e^{z_1}+e^{z_2}+e^{z_3}} $\n",
    "\n",
    "$ S(z_2) = \\frac{e^{z_2}}{e^{z_1}+e^{z_2}+e^{z_3}} $\n",
    "\n",
    "$ S(z_3) = \\frac{e^{z_3}}{e^{z_1}+e^{z_2}+e^{z_3}} $\n",
    "\n",
    "So, $ S(z_1) + S(z_2) + S(z_3) = 1 $\n",
    "\n",
    "##### Derivation\n",
    "\n",
    "$ S(z_1) = \\frac{e^{z_1}}{e^{z_1}+e^{z_2}+e^{z_3}} $\n",
    "\n",
    "w.r.t $z_1$,\n",
    "\n",
    "$ \\frac{\\partial{S(z_1)}}{\\partial{z_1}} = \\frac{e^{z_1}(e^{z_1}+e^{z_2}+e^{z_3}) - (e^{z_1}+0+0)e^{z_1}}{(e^{z_1}+e^{z_2}+e^{z_3})^2} $\n",
    "\n",
    "$ S'(z_1) =  \\frac{e^{z_1}\\Sigma - (e^{z_1})^2}{\\Sigma^2} $ where, $ \\Sigma = e^{z_1}+e^{z_2}+e^{z_3} $\n",
    "\n",
    "$ S'(z_1) =  \\frac{e^{z_1}\\Sigma}{\\Sigma^2} -  \\frac{(e^{z_1})^2}{\\Sigma^2} $\n",
    "\n",
    "$ S'(z_1) =  \\frac{e^{z_1}}{\\Sigma} -  (\\frac{e^{z_1}}{\\Sigma})^2 $\n",
    "\n",
    "$ S'(z_1) =  S(z_1) -  (S(z_1))^2 $\n",
    "\n",
    "$ S'(z_1) =  S(z_1)(1-S(z_1)) $\n",
    "\n",
    "Similarly,\n",
    "\n",
    "w.r.t $ z_2 $, $ S'(z_2) =  -S(z_1)S(z_2) $\n",
    "\n",
    "w.r.t $ z_3 $, $ S'(z_3) =  -S(z_1)S(z_3) $\n",
    "\n",
    "Finally, $ S(z_1) = S(z_1)(1-S(z_1)) - S(z_1)S(z_2) - S(z_1)S(z_3)  $"
   ]
  },
  {
   "cell_type": "code",
   "execution_count": null,
   "metadata": {},
   "outputs": [],
   "source": []
  }
 ],
 "metadata": {
  "kernelspec": {
   "display_name": "Python 3",
   "language": "python",
   "name": "python3"
  },
  "language_info": {
   "codemirror_mode": {
    "name": "ipython",
    "version": 3
   },
   "file_extension": ".py",
   "mimetype": "text/x-python",
   "name": "python",
   "nbconvert_exporter": "python",
   "pygments_lexer": "ipython3",
   "version": "3.7.4"
  }
 },
 "nbformat": 4,
 "nbformat_minor": 2
}
